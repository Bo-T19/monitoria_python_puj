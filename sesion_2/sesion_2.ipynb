{
 "cells": [
  {
   "cell_type": "markdown",
   "id": "f624d354-89c9-4fb4-81e6-04d154c9b3fa",
   "metadata": {},
   "source": [
    "# Sesión 2 de Monitoría de Python\n",
    "\n",
    "Este notebook cubre los conceptos fundamentales de Python incluyendo funciones, estructuras de datos y control de flujo."
   ]
  },
  {
   "cell_type": "markdown",
   "id": "9135d2af-732b-4f8e-a2bb-28ddd00520ef",
   "metadata": {},
   "source": [
    "## 1. Funciones\n",
    "\n",
    "Las funciones son bloques de código reutilizables que realizan tareas específicas."
   ]
  },
  {
   "cell_type": "code",
   "execution_count": 72,
   "id": "68fbc9df-b926-453a-baec-bf2c8173c5c1",
   "metadata": {},
   "outputs": [],
   "source": [
    "# Definición de una función básica que suma dos números\n",
    "def suma(a, b):  # def: palabra clave para definir función, a y b son parámetros\n",
    "    return a + b  # return: devuelve el resultado de la suma"
   ]
  },
  {
   "cell_type": "code",
   "execution_count": 73,
   "id": "0695e917-d92b-493d-907d-6bbdca1565fd",
   "metadata": {},
   "outputs": [],
   "source": [
    "# Función que no devuelve un valor\n",
    "def saludar(nombre):  # Recibe un parámetro 'nombre' de tipo string\n",
    "    print(\"Hola, \" + nombre)  # print: muestra texto en consola, + concatena strings"
   ]
  },
  {
   "cell_type": "code",
   "execution_count": 74,
   "id": "52fe90ea-5fc5-40ad-ba15-44b4ad5b0aad",
   "metadata": {},
   "outputs": [
    {
     "name": "stdout",
     "output_type": "stream",
     "text": [
      "Hola, Mauricio\n"
     ]
    }
   ],
   "source": [
    "# Llamada a la función saludar con el argumento \"Mauricio\"\n",
    "saludar(\"Mauricio\")  # Ejecuta la función pasando \"Mauricio\" como parámetro"
   ]
  },
  {
   "cell_type": "code",
   "execution_count": 75,
   "id": "db86ee4f-81e4-4870-baab-ac2f5d9f6b44",
   "metadata": {},
   "outputs": [],
   "source": [
    "# Función más compleja que calcula el promedio de un estudiante\n",
    "def calcular_promedio(nombre, notas, bono=0.9):  # Tres parámetros: nombre, lista de notas y bono (parámetro opcional)\n",
    "    # sum(): suma todos los elementos de la lista 'notas'\n",
    "    # len(): cuenta la cantidad de elementos en la lista\n",
    "    promedio = sum(notas) / len(notas) + bono  # Calcula promedio aritmético y añade bono\n",
    "    # str(): convierte el número promedio a string para concatenar\n",
    "    print(\"El promedio de \" + nombre + \" es \" + str(promedio))  # Muestra el resultado"
   ]
  },
  {
   "cell_type": "code",
   "execution_count": 76,
   "id": "5fc14960-32e9-4fbd-a889-fa50e6a1ae03",
   "metadata": {},
   "outputs": [
    {
     "name": "stdout",
     "output_type": "stream",
     "text": [
      "El promedio de Laura es 4.1\n"
     ]
    }
   ],
   "source": [
    "# Ejemplo de uso de la función calcular_promedio\n",
    "calcular_promedio(\"Laura\", [5, 4, 5, 0, 5], 0.3)  # Nombre, lista de notas, bono de 0.3"
   ]
  },
  {
   "cell_type": "markdown",
   "id": "8b602322-fd3d-4025-996d-afe1de7afb46",
   "metadata": {},
   "source": [
    "## 2. Listas y Tuplas\n",
    "\n",
    "### Listas\n",
    "Las listas son colecciones ordenadas y **mutables** de elementos, definidas con corchetes `[]`.\n",
    "\n",
    "### Tuplas\n",
    "Las tuplas son colecciones ordenadas e **inmutables** de elementos, definidas con paréntesis `()`."
   ]
  },
  {
   "cell_type": "code",
   "execution_count": 77,
   "id": "d9758eeb-d334-44ca-b3db-0a9a3d3cbdfc",
   "metadata": {},
   "outputs": [],
   "source": [
    "# Creación de una lista que puede contener diferentes tipos de datos\n",
    "lista_notas = [5, 4, 5, 2, 5, 2, \"gato\", \"perro\", True, False, 'b']  # Lista mixta con números, strings y booleanos"
   ]
  },
  {
   "cell_type": "code",
   "execution_count": 78,
   "id": "bc0331ff-ffc4-4d3a-81db-8f41bdb2f85b",
   "metadata": {},
   "outputs": [],
   "source": [
    "# Creación de una tupla (inmutable)\n",
    "tupla_notas = (5, 4, 5, 2, 5, 2, \"gato\", \"perro\")  # Tupla con elementos mixtos"
   ]
  },
  {
   "cell_type": "code",
   "execution_count": 79,
   "id": "5308f351-cc95-4579-99fd-3722c5e1bf7a",
   "metadata": {},
   "outputs": [],
   "source": [
    "# Modificación de un elemento en la lista (las listas son mutables)\n",
    "lista_notas[0] = 3  # Cambia el primer elemento (índice 0) de 5 a 3"
   ]
  },
  {
   "cell_type": "code",
   "execution_count": 80,
   "id": "3999f70c-80dd-495e-862c-6bc399fe629f",
   "metadata": {},
   "outputs": [
    {
     "data": {
      "text/plain": [
       "[3, 4, 5, 2, 5, 2, 'gato', 'perro', True, False, 'b']"
      ]
     },
     "execution_count": 80,
     "metadata": {},
     "output_type": "execute_result"
    }
   ],
   "source": [
    "# Muestra el contenido actual de la lista (se puede ver el cambio)\n",
    "lista_notas  # En Jupyter, esto muestra el valor de la variable"
   ]
  },
  {
   "cell_type": "code",
   "execution_count": 81,
   "id": "6fd158c6-fefc-4bce-9be3-df8508dbbe17",
   "metadata": {},
   "outputs": [
    {
     "data": {
      "text/plain": [
       "'b'"
      ]
     },
     "execution_count": 81,
     "metadata": {},
     "output_type": "execute_result"
    }
   ],
   "source": [
    "# Acceso al último elemento usando índice negativo\n",
    "lista_notas[-1]  # -1 se refiere al último elemento de la lista"
   ]
  },
  {
   "cell_type": "code",
   "execution_count": 82,
   "id": "6e06c73e-942a-404b-90de-1118a622bf18",
   "metadata": {},
   "outputs": [
    {
     "data": {
      "text/plain": [
       "[5, 2, 5, 2]"
      ]
     },
     "execution_count": 82,
     "metadata": {},
     "output_type": "execute_result"
    }
   ],
   "source": [
    "# Slicing: extrae una porción de la lista\n",
    "lista_notas[2:6]  # Elementos desde índice 2 hasta 5 (el 6 no se incluye)"
   ]
  },
  {
   "cell_type": "code",
   "execution_count": 83,
   "id": "71f7d9a2-024b-479c-b8ca-2f40f4e2f76e",
   "metadata": {},
   "outputs": [],
   "source": [
    "# Lista con solo números para operaciones matemáticas\n",
    "lista_numeros = [0.9, 8.9, 6, 7, 6, 7]  # Lista de números decimales y enteros"
   ]
  },
  {
   "cell_type": "code",
   "execution_count": 84,
   "id": "f075220b-3693-41c1-b1b8-66f4ecccbd6f",
   "metadata": {},
   "outputs": [
    {
     "data": {
      "text/plain": [
       "35.8"
      ]
     },
     "execution_count": 84,
     "metadata": {},
     "output_type": "execute_result"
    }
   ],
   "source": [
    "# sum(): función que suma todos los elementos numéricos de una lista\n",
    "sum(lista_numeros)  # Resultado: 0.9 + 8.9 + 6 + 7 + 6 + 7 = 35.8"
   ]
  },
  {
   "cell_type": "code",
   "execution_count": 85,
   "id": "d6527caf-72ed-4101-af64-f4401d3d993d",
   "metadata": {},
   "outputs": [
    {
     "data": {
      "text/plain": [
       "0.9"
      ]
     },
     "execution_count": 85,
     "metadata": {},
     "output_type": "execute_result"
    }
   ],
   "source": [
    "# min(): función que encuentra el valor mínimo en la lista\n",
    "min(lista_numeros)  # Devuelve el elemento más pequeño: 0.9"
   ]
  },
  {
   "cell_type": "code",
   "execution_count": 86,
   "id": "8aeb21ab-dec2-4d9e-a319-cd76df16bcf4",
   "metadata": {},
   "outputs": [
    {
     "data": {
      "text/plain": [
       "8.9"
      ]
     },
     "execution_count": 86,
     "metadata": {},
     "output_type": "execute_result"
    }
   ],
   "source": [
    "# max(): función que encuentra el valor máximo en la lista\n",
    "max(lista_numeros)  # Devuelve el elemento más grande: 8.9"
   ]
  },
  {
   "cell_type": "code",
   "execution_count": 87,
   "id": "edd226d9-98da-439f-86b8-5771d63e58c2",
   "metadata": {},
   "outputs": [
    {
     "name": "stdout",
     "output_type": "stream",
     "text": [
      "[0.9, 6, 6, 7, 7, 8.9]\n"
     ]
    }
   ],
   "source": [
    "# sorted(): función que devuelve una nueva lista ordenada de menor a mayor\n",
    "print(sorted(lista_numeros))  # No modifica la lista original, crea una nueva ordenada"
   ]
  },
  {
   "cell_type": "code",
   "execution_count": 88,
   "id": "3c2cbbfb-98ce-4d34-a144-13835129d279",
   "metadata": {},
   "outputs": [
    {
     "data": {
      "text/plain": [
       "6"
      ]
     },
     "execution_count": 88,
     "metadata": {},
     "output_type": "execute_result"
    }
   ],
   "source": [
    "# len(): función que cuenta el número de elementos en la lista\n",
    "len(lista_numeros)  # Devuelve 6 (cantidad de elementos en la lista)"
   ]
  },
  {
   "cell_type": "code",
   "execution_count": 89,
   "id": "5dda5ff0-8fff-42f7-9bf8-046bb3e7fb39",
   "metadata": {},
   "outputs": [],
   "source": [
    "# append(): método que añade un elemento al final de la lista\n",
    "lista_numeros.append(\"texto\")  # Añade el string \"texto\" al final de la lista"
   ]
  },
  {
   "cell_type": "code",
   "execution_count": 90,
   "id": "ff05df78-cddd-46e3-ade8-b1fed68d15c6",
   "metadata": {},
   "outputs": [
    {
     "data": {
      "text/plain": [
       "[0.9, 8.9, 6, 7, 6, 7, 'texto']"
      ]
     },
     "execution_count": 90,
     "metadata": {},
     "output_type": "execute_result"
    }
   ],
   "source": [
    "# Muestra la lista después de append\n",
    "lista_numeros  # La lista ahora contiene los números originales más \"texto\""
   ]
  },
  {
   "cell_type": "markdown",
   "id": "copy_behavior",
   "metadata": {},
   "source": [
    "### Comportamiento de Copia de Listas\n",
    "\n",
    "Es importante entender cómo Python maneja las copias de listas para evitar modificaciones no deseadas."
   ]
  },
  {
   "cell_type": "code",
   "execution_count": 91,
   "id": "9d611ecc-802c-4e45-8da0-b431a580a252",
   "metadata": {},
   "outputs": [],
   "source": [
    "# Demostración de copia de listas\n",
    "lista_a = [0, 1, 2, 3]  # Lista original\n",
    "lista_b = list(lista_a)  # list(): crea una COPIA independiente de lista_a"
   ]
  },
  {
   "cell_type": "code",
   "execution_count": 92,
   "id": "722186a7-b030-4c65-a282-bafaf3aaa25d",
   "metadata": {},
   "outputs": [
    {
     "data": {
      "text/plain": [
       "[0, 1, 2, 3]"
      ]
     },
     "execution_count": 92,
     "metadata": {},
     "output_type": "execute_result"
    }
   ],
   "source": [
    "# Muestra el contenido de la lista original\n",
    "lista_a  # Contenido original sin cambios"
   ]
  },
  {
   "cell_type": "code",
   "execution_count": 93,
   "id": "403b528f-4d3e-44c0-b41a-4cbc6a5b36e5",
   "metadata": {},
   "outputs": [
    {
     "data": {
      "text/plain": [
       "[0, 1, 2, 3]"
      ]
     },
     "execution_count": 93,
     "metadata": {},
     "output_type": "execute_result"
    }
   ],
   "source": [
    "# Muestra el contenido de la copia (inicialmente idéntica)\n",
    "lista_b  # Copia exacta de lista_a"
   ]
  },
  {
   "cell_type": "code",
   "execution_count": 94,
   "id": "22be57c7-8bea-4417-9755-ddd56404844b",
   "metadata": {},
   "outputs": [],
   "source": [
    "# Modificación del primer elemento de la copia\n",
    "lista_b[0] = \"perro\"  # Cambia solo el primer elemento de lista_b"
   ]
  },
  {
   "cell_type": "code",
   "execution_count": 95,
   "id": "2605ad0e-2f7a-4548-b99f-c057feedf969",
   "metadata": {},
   "outputs": [
    {
     "data": {
      "text/plain": [
       "[0, 1, 2, 3]"
      ]
     },
     "execution_count": 95,
     "metadata": {},
     "output_type": "execute_result"
    }
   ],
   "source": [
    "# Verificación: la lista original NO cambió\n",
    "lista_a  # Permanece igual porque lista_b es una copia independiente"
   ]
  },
  {
   "cell_type": "code",
   "execution_count": 96,
   "id": "2ba191b3-bdac-49a9-a4bd-bd3cf68165e0",
   "metadata": {},
   "outputs": [
    {
     "data": {
      "text/plain": [
       "['perro', 1, 2, 3]"
      ]
     },
     "execution_count": 96,
     "metadata": {},
     "output_type": "execute_result"
    }
   ],
   "source": [
    "# Verificación: solo la copia cambió\n",
    "lista_b  # Solo esta lista se modificó"
   ]
  },
  {
   "cell_type": "code",
   "execution_count": 97,
   "id": "d452a967-4846-407b-9d7f-84128e2b738f",
   "metadata": {},
   "outputs": [],
   "source": [
    "#¿Qué habría pasado si no hubiéramos hecho la copia con list(lista_a), sino de la forma más intuitiva, haciendo list_b=list_a?\n",
    "lista_a = [0, 1, 2, 3] \n",
    "lista_b =lista_a  "
   ]
  },
  {
   "cell_type": "code",
   "execution_count": 98,
   "id": "759ca756-b57c-4a2b-aab0-8f26dba241ee",
   "metadata": {},
   "outputs": [
    {
     "data": {
      "text/plain": [
       "[0, 1, 2, 3]"
      ]
     },
     "execution_count": 98,
     "metadata": {},
     "output_type": "execute_result"
    }
   ],
   "source": [
    "lista_a "
   ]
  },
  {
   "cell_type": "code",
   "execution_count": 99,
   "id": "0df76c4c-1bb8-446b-a09e-089f9d61c9e5",
   "metadata": {},
   "outputs": [
    {
     "data": {
      "text/plain": [
       "[0, 1, 2, 3]"
      ]
     },
     "execution_count": 99,
     "metadata": {},
     "output_type": "execute_result"
    }
   ],
   "source": [
    "lista_b"
   ]
  },
  {
   "cell_type": "code",
   "execution_count": 100,
   "id": "3e90a529-1e52-44f4-9d92-39d15235892a",
   "metadata": {},
   "outputs": [],
   "source": [
    "lista_b[0] = \"perro\" "
   ]
  },
  {
   "cell_type": "code",
   "execution_count": 101,
   "id": "7642810b-7368-4705-8101-36ed27c2ae0a",
   "metadata": {},
   "outputs": [
    {
     "data": {
      "text/plain": [
       "['perro', 1, 2, 3]"
      ]
     },
     "execution_count": 101,
     "metadata": {},
     "output_type": "execute_result"
    }
   ],
   "source": [
    "lista_b"
   ]
  },
  {
   "cell_type": "code",
   "execution_count": 102,
   "id": "d9c64ff5-ea1b-4d29-a896-c6ff6a4774c2",
   "metadata": {},
   "outputs": [
    {
     "data": {
      "text/plain": [
       "['perro', 1, 2, 3]"
      ]
     },
     "execution_count": 102,
     "metadata": {},
     "output_type": "execute_result"
    }
   ],
   "source": [
    "lista_a #La lista_a también cambia, a pesar de que nuestra intención era solo cambiar la lista_b"
   ]
  },
  {
   "cell_type": "markdown",
   "id": "dcb884da-e257-4546-8bb0-82f0a9399e22",
   "metadata": {},
   "source": [
    "## 3. Control de Flujo: For e If\n",
    "\n",
    "### Bucles For\n",
    "Permiten iterar sobre colecciones de datos.\n",
    "\n",
    "### Condicionales If\n",
    "Permiten ejecutar código según condiciones específicas."
   ]
  },
  {
   "cell_type": "code",
   "execution_count": 103,
   "id": "ea18ea4e-0f3c-4245-8a60-499ee50698dc",
   "metadata": {},
   "outputs": [
    {
     "name": "stdout",
     "output_type": "stream",
     "text": [
      "3\n",
      "6\n",
      "7\n",
      "8\n"
     ]
    }
   ],
   "source": [
    "# Ejemplo de iteración usando bucle for\n",
    "tupla_numeros = (3, 6, 7, 8)  # Tupla con cuatro números\n",
    "\n",
    "# for: palabra clave para bucles, x: variable temporal, in: operador de pertenencia\n",
    "for x in tupla_numeros:  # x toma cada valor de la tupla en cada iteración\n",
    "    print(x)  # Imprime el valor actual de x"
   ]
  },
  {
   "cell_type": "code",
   "execution_count": 104,
   "id": "f2fa62f4-c15f-48fa-bf11-51b36914290c",
   "metadata": {},
   "outputs": [
    {
     "name": "stdout",
     "output_type": "stream",
     "text": [
      "El número es menor que menos 1\n"
     ]
    }
   ],
   "source": [
    "# Ejemplo de estructura condicional con múltiples condiciones\n",
    "numero = -10  # Variable a evaluar\n",
    "\n",
    "# if: si la condición es verdadera, ejecuta el bloque\n",
    "if numero > 0:  # Verifica si el número es positivo\n",
    "    print(\"Es un número positivo\")\n",
    "# elif: \"else if\", condición alternativa si la anterior es falsa\n",
    "elif numero == 0:  # Verifica si el número es exactamente cero\n",
    "    print(\"El número es cero\")\n",
    "elif numero == -1:  # Verifica si el número es exactamente menos uno\n",
    "    print(\"El número es menos uno\")\n",
    "# else: se ejecuta si ninguna condición anterior fue verdadera\n",
    "else:  # Caso por defecto para cualquier otro valor\n",
    "    print(\"El número es menor que menos 1\")"
   ]
  },
  {
   "cell_type": "code",
   "execution_count": 105,
   "id": "816ff0aa-5ef1-432f-b56e-1306fde0c11a",
   "metadata": {},
   "outputs": [],
   "source": [
    "# Lista para demostrar operaciones dentro de bucles\n",
    "lista_c = [90, 60, 79, 58]  # Lista de números"
   ]
  },
  {
   "cell_type": "code",
   "execution_count": 106,
   "id": "0788d9f3-bf80-42f3-99df-eb6e8fbcd31c",
   "metadata": {},
   "outputs": [
    {
     "name": "stdout",
     "output_type": "stream",
     "text": [
      "18.0\n",
      "12.0\n",
      "15.8\n",
      "11.6\n"
     ]
    }
   ],
   "source": [
    "# Bucle que realiza operaciones matemáticas en cada elemento\n",
    "for numero in lista_c:  # Itera sobre cada número en lista_c\n",
    "    numero_entre_5 = numero / 5  # Divide cada número por 5\n",
    "    print(numero_entre_5)  # Imprime el resultado de la división"
   ]
  },
  {
   "cell_type": "code",
   "execution_count": 107,
   "id": "cc1ea192-3475-4777-9f26-179610b4a6f8",
   "metadata": {},
   "outputs": [
    {
     "data": {
      "text/plain": [
       "13"
      ]
     },
     "execution_count": 107,
     "metadata": {},
     "output_type": "execute_result"
    }
   ],
   "source": [
    "# Lista más grande para demostrar el uso de range() e índices\n",
    "lista_grande = [4, 5, 6, 7, 8, 3, 6, 8, 9, 5, 7, 7, 4]  # Lista con 13 elementos\n",
    "len(lista_grande)  # Confirma que tiene 13 elementos"
   ]
  },
  {
   "cell_type": "code",
   "execution_count": 108,
   "id": "520b905e-b2fc-4f60-9eb3-1cc420db9e34",
   "metadata": {},
   "outputs": [
    {
     "name": "stdout",
     "output_type": "stream",
     "text": [
      "6\n",
      "8\n",
      "10\n",
      "8\n",
      "11\n",
      "9\n",
      "6\n"
     ]
    }
   ],
   "source": [
    "# Bucle usando range() para acceder a índices específicos\n",
    "# range(inicio, fin, paso): genera números desde 0 hasta 12, de 2 en 2\n",
    "for i in range(0, 13, 2):  # i toma valores: 0, 2, 4, 6, 8, 10, 12\n",
    "    print(lista_grande[i] + 2)  # Accede al elemento en posición i y le suma 2"
   ]
  },
  {
   "cell_type": "markdown",
   "id": "6268f6a5-4d48-4cf5-8ddf-5d5b786d7340",
   "metadata": {},
   "source": [
    "## 4. Diccionarios\n",
    "\n",
    "Los diccionarios son colecciones de pares clave-valor, donde cada clave es única y se usa para acceder a su valor correspondiente."
   ]
  },
  {
   "cell_type": "code",
   "execution_count": 109,
   "id": "6f71916f-4dd1-4b55-a568-08842dde17ad",
   "metadata": {},
   "outputs": [
    {
     "name": "stdout",
     "output_type": "stream",
     "text": [
      "{'Lina Perez Gomez': 5, 'Mateo Sanchez Lopez': 4, 'Laura Gomez Botero': 5, 'Laura Gomez Perez': 2}\n"
     ]
    }
   ],
   "source": [
    "# Creación de un diccionario con pares clave-valor\n",
    "# {}: corchetes para diccionarios, \"clave\": valor para cada par\n",
    "diccionario_notas = {\n",
    "    \"Lina Perez Gomez\": 5,      # Clave: nombre del estudiante, Valor: nota\n",
    "    \"Mateo Sanchez Lopez\": 4,   # Cada clave debe ser única\n",
    "    \"Laura Gomez Botero\": 5,    # Los valores pueden repetirse\n",
    "    \"Laura Gomez Perez\": 2      # Las claves son case-sensitive\n",
    "}\n",
    "# print(): muestra todo el diccionario\n",
    "print(diccionario_notas)  # Imprime todos los pares clave-valor"
   ]
  },
  {
   "cell_type": "markdown",
   "id": "7ac6f13e-408b-4402-ac07-8074f16228cd",
   "metadata": {},
   "source": [
    "## Ejemplo didáctico"
   ]
  },
  {
   "cell_type": "markdown",
   "id": "4893980c-7703-4eeb-b96d-2e96474eefe6",
   "metadata": {},
   "source": [
    "Contexto: Eres un analista de datos en una empresa de retail y necesitas analizar las ventas de productos en diferentes tiendas.\n",
    "\n",
    "Objetivo:\n",
    "\n",
    "- Calcular el total de ventas.\n",
    "- Determinar la tienda con más ventas.\n",
    "- Identificar el producto más vendido.\n",
    "\n",
    "\n",
    "Datos de ventas\n",
    "ventas = [ {\"tienda\": \"Tienda A\", \"producto\": \"Laptop\", \"cantidad\": 5, \"precio_unitario\": 800}, {\"tienda\": \"Tienda B\", \"producto\": \"Tablet\", \"cantidad\": 10, \"precio_unitario\": 300}, {\"tienda\": \"Tienda A\", \"producto\": \"Smartphone\", \"cantidad\": 15, \"precio_unitario\": 600}, {\"tienda\": \"Tienda C\", \"producto\": \"Laptop\", \"cantidad\": 3, \"precio_unitario\": 800}, {\"tienda\": \"Tienda B\", \"producto\": \"Smartphone\", \"cantidad\": 8, \"precio_unitario\": 600} ]"
   ]
  },
  {
   "cell_type": "code",
   "execution_count": 110,
   "id": "8bebc33c-0d81-4637-bd03-04179b4ae7cb",
   "metadata": {},
   "outputs": [
    {
     "name": "stdout",
     "output_type": "stream",
     "text": [
      "Total de ventas: $23200\n",
      "La tienda con más ventas es: Tienda A\n",
      "El producto más vendido es: Smartphone\n"
     ]
    }
   ],
   "source": [
    "# Datos de ventas\n",
    "ventas = [\n",
    "    {\"tienda\": \"Tienda A\", \"producto\": \"Laptop\", \"cantidad\": 5, \"precio_unitario\": 800},\n",
    "    {\"tienda\": \"Tienda B\", \"producto\": \"Tablet\", \"cantidad\": 10, \"precio_unitario\": 300},\n",
    "    {\"tienda\": \"Tienda A\", \"producto\": \"Smartphone\", \"cantidad\": 15, \"precio_unitario\": 600},\n",
    "    {\"tienda\": \"Tienda C\", \"producto\": \"Laptop\", \"cantidad\": 3, \"precio_unitario\": 800},\n",
    "    {\"tienda\": \"Tienda B\", \"producto\": \"Smartphone\", \"cantidad\": 8, \"precio_unitario\": 600}\n",
    "]\n",
    "\n",
    "# Cálculo del total de ventas\n",
    "ventas_totales = sum(item[\"cantidad\"] * item[\"precio_unitario\"] for item in ventas)\n",
    "print(f\"Total de ventas: ${ventas_totales}\")\n",
    "\n",
    "# Determinar la tienda con más ventas\n",
    "tiendas_ventas = {}\n",
    "for item in ventas:\n",
    "    tienda = item[\"tienda\"]\n",
    "    ingreso = item[\"cantidad\"] * item[\"precio_unitario\"]\n",
    "    tiendas_ventas[tienda] = tiendas_ventas.get(tienda, 0) + ingreso\n",
    "\n",
    "tienda_mayor_ventas = max(tiendas_ventas, key=tiendas_ventas.get)\n",
    "print(f\"La tienda con más ventas es: {tienda_mayor_ventas}\")\n",
    "\n",
    "# Identificar el producto más vendido\n",
    "productos_ventas = {}\n",
    "for item in ventas:\n",
    "    producto = item[\"producto\"]\n",
    "    cantidad = item[\"cantidad\"]\n",
    "    productos_ventas[producto] = productos_ventas.get(producto, 0) + cantidad\n",
    "\n",
    "producto_mas_vendido = max(productos_ventas, key=productos_ventas.get)\n",
    "print(f\"El producto más vendido es: {producto_mas_vendido}\")"
   ]
  }
 ],
 "metadata": {
  "kernelspec": {
   "display_name": "Python 3 (ipykernel)",
   "language": "python",
   "name": "python3"
  },
  "language_info": {
   "codemirror_mode": {
    "name": "ipython",
    "version": 3
   },
   "file_extension": ".py",
   "mimetype": "text/x-python",
   "name": "python",
   "nbconvert_exporter": "python",
   "pygments_lexer": "ipython3",
   "version": "3.11.7"
  }
 },
 "nbformat": 4,
 "nbformat_minor": 5
}
