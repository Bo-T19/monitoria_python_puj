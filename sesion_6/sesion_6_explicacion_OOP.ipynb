{
 "cells": [
  {
   "cell_type": "markdown",
   "id": "c03e17ea",
   "metadata": {},
   "source": [
    "# OOP en Python: Una introducción\n",
    "\n",
    "La Programación Orientada a Objetos (OOP, por sus siglas en inglés) es un paradigma de programación que organiza el código alrededor de clases, en lugar de funciones y procedimientos.\n",
    "\n",
    "Una clase es como un \"molde\" que define las características y comportamientos que va a tener un objeto. Los objetos son instancias específicas de una clase.\n"
   ]
  },
  {
   "cell_type": "markdown",
   "id": "399163ea",
   "metadata": {},
   "source": [
    "## ¿Por qué es importante?\n",
    "\n",
    "- Reutilización de código: las clases se pueden reutilizar en diferentes partes del programa, rediciendo la duplicación del código.\n",
    "- El código está más organizado y es más fácil de mantener"
   ]
  },
  {
   "cell_type": "markdown",
   "id": "a732a699",
   "metadata": {},
   "source": [
    "## Sintaxis básica en Python"
   ]
  },
  {
   "cell_type": "code",
   "execution_count": null,
   "id": "428d2a78",
   "metadata": {},
   "outputs": [],
   "source": [
    "#Crear una clase\n",
    "class Animal:\n",
    "    #Cada clase tiene un constructor (Método especial que se escribe como __init__ y funciona para instanciar)\n",
    "    def __init__(self,nombre,edad): #El primer argumento del constructor siempre es self\n",
    "        self.nombre=nombre #Aquí defino las propiedades que va a tener mi objeto\n",
    "        self.edad=edad\n",
    "        print('Hola, soy '+nombre+', tengo '+ str(edad)+ ' años')\n",
    "    \n",
    "    #Métodos \n",
    "    def respirar(self):\n",
    "        print('**Inhala**......**Exhala**')\n",
    "    "
   ]
  },
  {
   "cell_type": "code",
   "execution_count": null,
   "id": "159d6605",
   "metadata": {},
   "outputs": [
    {
     "name": "stdout",
     "output_type": "stream",
     "text": [
      "Hola, soy Misifú, tengo 6 años\n"
     ]
    }
   ],
   "source": [
    "#Instanciar mi clase\n",
    "misifu= Animal('Misifú',6)"
   ]
  },
  {
   "cell_type": "code",
   "execution_count": null,
   "id": "de5f56a0",
   "metadata": {},
   "outputs": [
    {
     "name": "stdout",
     "output_type": "stream",
     "text": [
      "**Inhala**......**Exhala**\n"
     ]
    }
   ],
   "source": [
    "#Llamar a mi método\n",
    "misifu.respirar()"
   ]
  },
  {
   "cell_type": "code",
   "execution_count": null,
   "id": "15dbaf4b",
   "metadata": {},
   "outputs": [
    {
     "name": "stdout",
     "output_type": "stream",
     "text": [
      "**Inhala**......**Exhala**\n"
     ]
    }
   ],
   "source": [
    "#Otra forma de llamar a mi método\n",
    "Animal.respirar(misifu)"
   ]
  },
  {
   "cell_type": "code",
   "execution_count": 32,
   "id": "fdbfcac9",
   "metadata": {},
   "outputs": [
    {
     "data": {
      "text/plain": [
       "6"
      ]
     },
     "execution_count": 32,
     "metadata": {},
     "output_type": "execute_result"
    }
   ],
   "source": [
    "#Imprimir un atriburo de mi clase\n",
    "misifu.edad"
   ]
  },
  {
   "cell_type": "markdown",
   "id": "4a72cb50",
   "metadata": {},
   "source": [
    "### Herencia"
   ]
  },
  {
   "cell_type": "code",
   "execution_count": 30,
   "id": "5613d66e",
   "metadata": {},
   "outputs": [],
   "source": [
    "#Clase \"hija\" de animal. Hereda sus métodos y atributos\n",
    "class Perro(Animal):\n",
    "    ##Atributo de clase\n",
    "    numero_patas=4\n",
    "\n",
    "    ##Constructor de la clase hija, llama al constructor de la clase \"madre\"\n",
    "    def __init__(self, nombre, edad,raza):\n",
    "        super().__init__(nombre, edad) #Llamar al constructor de la clase hija\n",
    "        self.raza=raza\n",
    "    \n",
    "    def ladrar(self):\n",
    "        print(\"Guau!\")"
   ]
  },
  {
   "cell_type": "code",
   "execution_count": 31,
   "id": "80fe9b4f",
   "metadata": {},
   "outputs": [
    {
     "name": "stdout",
     "output_type": "stream",
     "text": [
      "Hola, soy Pepe, tengo 4 años\n"
     ]
    }
   ],
   "source": [
    "pepe=Perro('Pepe',4,'Salchicha')"
   ]
  },
  {
   "cell_type": "code",
   "execution_count": 25,
   "id": "4e2e8d40",
   "metadata": {},
   "outputs": [
    {
     "name": "stdout",
     "output_type": "stream",
     "text": [
      "**Inhala**......**Exhala**\n"
     ]
    }
   ],
   "source": [
    "pepe.respirar()"
   ]
  },
  {
   "cell_type": "code",
   "execution_count": 27,
   "id": "ffbb43a3",
   "metadata": {},
   "outputs": [
    {
     "name": "stdout",
     "output_type": "stream",
     "text": [
      "Guau!\n"
     ]
    }
   ],
   "source": [
    "pepe.ladrar()"
   ]
  }
 ],
 "metadata": {
  "kernelspec": {
   "display_name": "base",
   "language": "python",
   "name": "python3"
  },
  "language_info": {
   "codemirror_mode": {
    "name": "ipython",
    "version": 3
   },
   "file_extension": ".py",
   "mimetype": "text/x-python",
   "name": "python",
   "nbconvert_exporter": "python",
   "pygments_lexer": "ipython3",
   "version": "3.13.5"
  }
 },
 "nbformat": 4,
 "nbformat_minor": 5
}
