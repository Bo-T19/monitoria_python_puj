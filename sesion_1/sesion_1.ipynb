{
 "cells": [
  {
   "cell_type": "markdown",
   "id": "9a14d417-c00e-422b-9435-99f35a5feaec",
   "metadata": {},
   "source": [
    "# Monitoría de Python"
   ]
  },
  {
   "cell_type": "markdown",
   "id": "b8c230ab-0ed1-44aa-99af-b715ec0e4bd6",
   "metadata": {},
   "source": [
    "## Módulo 1"
   ]
  },
  {
   "cell_type": "markdown",
   "id": "ce78d924-ea99-43cb-8700-11942a2ef3ca",
   "metadata": {},
   "source": [
    "### 1. ¿Qué es Python?"
   ]
  },
  {
   "cell_type": "code",
   "execution_count": 1,
   "id": "1e1df55d-4ea5-4b0b-941f-a19d4d8cc6a8",
   "metadata": {},
   "outputs": [
    {
     "data": {
      "text/plain": [
       "'\\nPython es un lenguaje de programación interpretado, de alto nivel y multipropósito. \\nEs ampliamente utilizado en desarrollo web, ciencia de datos, inteligencia artificial, automatización, entre otros.\\n'"
      ]
     },
     "execution_count": 1,
     "metadata": {},
     "output_type": "execute_result"
    }
   ],
   "source": [
    "\"\"\"\n",
    "Python es un lenguaje de programación interpretado, de alto nivel y multipropósito. \n",
    "Es ampliamente utilizado en desarrollo web, ciencia de datos, inteligencia artificial, automatización, entre otros.\n",
    "\"\"\""
   ]
  },
  {
   "cell_type": "markdown",
   "id": "1512602e-66aa-4f67-accc-185dc661180d",
   "metadata": {},
   "source": [
    "### 2. Tipos de datos"
   ]
  },
  {
   "cell_type": "code",
   "execution_count": 5,
   "id": "b364115b-fe72-4c18-aeef-cbf8fff4471b",
   "metadata": {},
   "outputs": [
    {
     "name": "stdout",
     "output_type": "stream",
     "text": [
      "10 <class 'int'>\n"
     ]
    }
   ],
   "source": [
    "# Primer tipo: Entero (Integer)\n",
    "x = 10\n",
    "print(x, type(x))"
   ]
  },
  {
   "cell_type": "code",
   "execution_count": 6,
   "id": "da9611a8-17f2-4436-bc0a-ee16aefa1d6e",
   "metadata": {},
   "outputs": [
    {
     "name": "stdout",
     "output_type": "stream",
     "text": [
      "10.09798 <class 'float'>\n"
     ]
    }
   ],
   "source": [
    "# Seguro tipo: Flotante \n",
    "y= 10.09798 # Este un número con muchos decimales\n",
    "print(y, type(y))"
   ]
  },
  {
   "cell_type": "code",
   "execution_count": 9,
   "id": "9542954d-6d1e-4b46-8611-078a541d9079",
   "metadata": {},
   "outputs": [
    {
     "name": "stdout",
     "output_type": "stream",
     "text": [
      "Hola mundo! <class 'str'>\n"
     ]
    }
   ],
   "source": [
    "# Cadena de texto (String)\n",
    "cadena = \"Hola mundo!\"\n",
    "cadena_2= 'Hola mundo! 2'\n",
    "\n",
    "print(cadena, type(cadena))"
   ]
  },
  {
   "cell_type": "code",
   "execution_count": 13,
   "id": "383dea3f-27de-4983-89fb-312e94af2236",
   "metadata": {},
   "outputs": [
    {
     "name": "stdout",
     "output_type": "stream",
     "text": [
      "True <class 'bool'>\n"
     ]
    }
   ],
   "source": [
    "# Booleano\n",
    "hoy_es_dia_par=True\n",
    "hoy_es_dia_impar=False\n",
    "\n",
    "print (hoy_es_dia_par, type(hoy_es_dia_par))"
   ]
  },
  {
   "cell_type": "markdown",
   "id": "8f09ea56-0ccd-4a0f-a5b0-0a5a103f825d",
   "metadata": {},
   "source": [
    "### Operaciones básicas"
   ]
  },
  {
   "cell_type": "code",
   "execution_count": null,
   "id": "aa8008c4-cfab-4358-a3ca-d53c519edf44",
   "metadata": {},
   "outputs": [
    {
     "name": "stdout",
     "output_type": "stream",
     "text": [
      "14\n",
      "14.6768768\n",
      "Hola, Juan\n"
     ]
    }
   ],
   "source": [
    "# Entero + entero\n",
    "suma = 5+9\n",
    "print(suma)\n",
    "\n",
    "# Flotante + Entero ¿Qué sucede?\n",
    "suma = 5 + 9.6768768\n",
    "print(suma)\n",
    "\n",
    "#String + String\n",
    "saludo = 'Hola, '\n",
    "nombre = 'Juan'\n",
    "\n",
    "frase= saludo+nombre\n",
    "print(frase)"
   ]
  },
  {
   "cell_type": "code",
   "execution_count": null,
   "id": "35962203-d7ba-46af-ade8-8fcca8d2e4d9",
   "metadata": {},
   "outputs": [
    {
     "name": "stdout",
     "output_type": "stream",
     "text": [
      "63\n",
      "1.2857142857142858\n",
      "Hola, Hola, Hola, \n"
     ]
    }
   ],
   "source": [
    "# Multiplicacion\n",
    "multiplicacion = 9*7\n",
    "print(multiplicacion)\n",
    "\n",
    "# Division\n",
    "division = 9/7\n",
    "print(division)\n",
    "\n",
    "# Multiplicacion de texto por entero\n",
    "print(saludo*3)"
   ]
  },
  {
   "cell_type": "code",
   "execution_count": 24,
   "id": "b1deba4e-98d0-4fef-87ad-158fa360ce43",
   "metadata": {},
   "outputs": [
    {
     "name": "stdout",
     "output_type": "stream",
     "text": [
      "0\n"
     ]
    }
   ],
   "source": [
    "# Operador Módulo %\n",
    "a=10\n",
    "b=5\n",
    "\n",
    "print(a%b)"
   ]
  },
  {
   "cell_type": "code",
   "execution_count": null,
   "id": "f453fa83-c751-417c-971c-31f882f54394",
   "metadata": {},
   "outputs": [
    {
     "name": "stdout",
     "output_type": "stream",
     "text": [
      "False\n"
     ]
    }
   ],
   "source": [
    "# Comparacion\n",
    "d = 6\n",
    "f = 7\n",
    "\n",
    "comparacion = d>=f\n",
    "print(comparacion)"
   ]
  }
 ],
 "metadata": {
  "kernelspec": {
   "display_name": "Python 3 (ipykernel)",
   "language": "python",
   "name": "python3"
  },
  "language_info": {
   "codemirror_mode": {
    "name": "ipython",
    "version": 3
   },
   "file_extension": ".py",
   "mimetype": "text/x-python",
   "name": "python",
   "nbconvert_exporter": "python",
   "pygments_lexer": "ipython3",
   "version": "3.11.7"
  }
 },
 "nbformat": 4,
 "nbformat_minor": 5
}
