{
  "cells": [
    {
      "cell_type": "markdown",
      "metadata": {
        "id": "RSi4nls5DWmN"
      },
      "source": [
        "# Inputs"
      ]
    },
    {
      "cell_type": "code",
      "execution_count": null,
      "metadata": {
        "colab": {
          "base_uri": "https://localhost:8080/"
        },
        "id": "5z8Qpr_lDNfl",
        "outputId": "13f69756-4bdd-4ad6-daed-1250f420e900"
      },
      "outputs": [
        {
          "name": "stdout",
          "output_type": "stream",
          "text": [
            "Digita un número: 15\n",
            "El número dividido entre 6 es 2.5\n"
          ]
        }
      ],
      "source": [
        "#Programa para dividir un número entre 6. \n",
        "\n",
        "num=input(\"Digita un número: \") #Tomamos primero el input del usuario\n",
        "\n",
        "num_dividido_6=int(num)/6 #Importante esto, hay que convertir el número a entero con int(), ya que los inputs siempre se toman como strings\n",
        "\n",
        "print(\"El número dividido entre 6 es \"+str(num_dividido_6))\n"
      ]
    },
    {
      "cell_type": "markdown",
      "metadata": {
        "id": "V1Nol6IpFRPd"
      },
      "source": [
        "# Try-except (Try-catch)"
      ]
    },
    {
      "cell_type": "code",
      "execution_count": null,
      "metadata": {
        "colab": {
          "base_uri": "https://localhost:8080/"
        },
        "id": "gRWEX6CqFdiN",
        "outputId": "d3d16978-69d9-4e02-a634-8cb63cc8f76e"
      },
      "outputs": [
        {
          "name": "stdout",
          "output_type": "stream",
          "text": [
            "Digita tu edad en años cincuenta\n",
            "No digitaste un número válido, intenta de nuevo\n"
          ]
        }
      ],
      "source": [
        "# Bloque try/except: permite manejar errores sin que el programa se detenga.\n",
        "# except captura el error y define qué hacer en ese caso.\n",
        "\n",
        "#Programa para calcular cuál es mi edad en meses\n",
        "\n",
        "try:\n",
        "  edad_años_string=input(\"Digita tu edad en años \")\n",
        "  edad_años_int=int(edad_años_string)\n",
        "  edad_meses=edad_años_int*12\n",
        "  print(\"Tu edad en meses es \"+str(edad_meses))\n",
        "\n",
        "except:\n",
        "  print(\"No digitaste un número válido, intenta de nuevo\")\n"
      ]
    },
    {
      "cell_type": "code",
      "execution_count": null,
      "metadata": {
        "colab": {
          "base_uri": "https://localhost:8080/"
        },
        "id": "5ZQa9PUELY1k",
        "outputId": "cdf44b05-342a-49d4-ae64-cab440166559"
      },
      "outputs": [
        {
          "name": "stdout",
          "output_type": "stream",
          "text": [
            "Digita tu nombresantiago\n",
            "Tu nombre no empieza con mayúscula\n"
          ]
        }
      ],
      "source": [
        "#Diferencia con el if-else, el cual no se utiliza cuando queremos capturar errores en Python, sino cuando queremos implementar\n",
        "#alguna lógica en nuestro programa\n",
        "\n",
        "#If - else\n",
        "\n",
        "nombre = input(\"Digita tu nombre \")\n",
        "\n",
        "if nombre[0].isupper():\n",
        "  print(\"Tu nombre empieza con mayúscula\")\n",
        "else:\n",
        "  print(\"Tu nombre no empieza con mayúscula\")"
      ]
    },
    {
      "cell_type": "markdown",
      "metadata": {
        "id": "9Aro6YniHa-y"
      },
      "source": [
        "# List comprehensions\n",
        "\n",
        "Las list comprehensions en Python son una forma concisa y expresiva de crear listas a partir de secuencias (listas, rangos, etc.) aplicando operaciones o condiciones, en una sola línea de código."
      ]
    },
    {
      "cell_type": "markdown",
      "metadata": {
        "id": "bq3tr1UIIR49"
      },
      "source": [
        "[nueva_expresión for elemento in iterable if condición]"
      ]
    },
    {
      "cell_type": "code",
      "execution_count": null,
      "metadata": {
        "colab": {
          "base_uri": "https://localhost:8080/"
        },
        "id": "TUnvP7vVHiiU",
        "outputId": "254d53d6-40b9-4191-984a-5c5cc77b4627"
      },
      "outputs": [
        {
          "name": "stdout",
          "output_type": "stream",
          "text": [
            "[32, 1024, 7776, 32768, 100000]\n"
          ]
        }
      ],
      "source": [
        "numeros=[x**5 for x in range (1,11) if x%2==0]\n",
        "\n",
        "print(numeros)\n"
      ]
    },
    {
      "cell_type": "markdown",
      "metadata": {
        "id": "aXSmiZEfMQ71"
      },
      "source": [
        "# Numpy"
      ]
    },
    {
      "cell_type": "code",
      "execution_count": null,
      "metadata": {
        "id": "ttsYiWbnMqoF"
      },
      "outputs": [],
      "source": [
        "#Siempre imprtamos numpy como np\n",
        "import numpy as np"
      ]
    },
    {
      "cell_type": "code",
      "execution_count": null,
      "metadata": {
        "colab": {
          "base_uri": "https://localhost:8080/"
        },
        "id": "R3F1hFMnM9FT",
        "outputId": "b1cc28cc-6866-451d-96dd-7be087c5f1a9"
      },
      "outputs": [
        {
          "name": "stdout",
          "output_type": "stream",
          "text": [
            "<class 'numpy.ndarray'>\n",
            "<class 'list'>\n"
          ]
        }
      ],
      "source": [
        "#Creamos una lista de números\n",
        "lista_numeros=[1,2,4,5,7]\n",
        "\n",
        "#Con esta línea la convertimos en un array de Numpy\n",
        "array_numeros=np.array(lista_numeros)\n",
        "\n",
        "#Veamos la clase de cada una\n",
        "print(type(array_numeros))\n",
        "print(type(lista_numeros))"
      ]
    },
    {
      "cell_type": "code",
      "execution_count": null,
      "metadata": {
        "colab": {
          "base_uri": "https://localhost:8080/"
        },
        "id": "s8JISk9kM9N1",
        "outputId": "9c63e7e3-b6a4-47f2-80eb-b0fd515716cc"
      },
      "outputs": [
        {
          "name": "stdout",
          "output_type": "stream",
          "text": [
            "(3, 3)\n",
            "2\n",
            "9\n",
            "72\n",
            "[[1 4 5]\n",
            " [6 7 8]\n",
            " [7 2 3]]\n"
          ]
        }
      ],
      "source": [
        "#Matrices de dos dimensiones en Numpy, así se crean:\n",
        "\n",
        "matriz=np.array([[1,4,5],[6,7,8],[7,2,3]])\n",
        "\n",
        "#Función para ver las tamaño de una matriz\n",
        "print(matriz.shape)\n",
        "\n",
        "#Función para ver la dimensión de la matriz\n",
        "print(matriz.ndim)\n",
        "\n",
        "#Función para ver el número de elementos\n",
        "print(matriz.size)\n",
        "\n",
        "#Función para saber el tamaño de la matriz\n",
        "print(matriz.nbytes)\n",
        "\n",
        "print(matriz)"
      ]
    },
    {
      "cell_type": "code",
      "execution_count": null,
      "metadata": {
        "colab": {
          "base_uri": "https://localhost:8080/"
        },
        "id": "wsLFjNvTP5nl",
        "outputId": "717721ed-9582-45e2-f265-7a04f268da64"
      },
      "outputs": [
        {
          "name": "stdout",
          "output_type": "stream",
          "text": [
            "8\n"
          ]
        }
      ],
      "source": [
        "#Acceder a los elementos de la matriz\n",
        "#EL ÍNDICE COMIENZA POR CERO (0)\n",
        "print(matriz[1,2])"
      ]
    },
    {
      "cell_type": "code",
      "execution_count": null,
      "metadata": {
        "colab": {
          "base_uri": "https://localhost:8080/"
        },
        "id": "E4nCk0XnP5vt",
        "outputId": "e359a7c7-eade-4c35-c99c-938f936b1455"
      },
      "outputs": [
        {
          "name": "stdout",
          "output_type": "stream",
          "text": [
            "[1 4 5]\n"
          ]
        }
      ],
      "source": [
        "#Obtener una fila específica\n",
        "print(matriz[0,:])"
      ]
    },
    {
      "cell_type": "code",
      "execution_count": null,
      "metadata": {
        "colab": {
          "base_uri": "https://localhost:8080/"
        },
        "id": "NLih04ycRBTt",
        "outputId": "a6f22173-abc6-42a5-bac2-53c702362864"
      },
      "outputs": [
        {
          "name": "stdout",
          "output_type": "stream",
          "text": [
            "[4 7 2]\n"
          ]
        }
      ],
      "source": [
        "#Obtener una columna específica\n",
        "print(matriz[:,1])"
      ]
    },
    {
      "cell_type": "code",
      "execution_count": null,
      "metadata": {
        "colab": {
          "base_uri": "https://localhost:8080/"
        },
        "id": "Tu0mZOrnRVat",
        "outputId": "2ef7a59f-86ab-4e03-9ef8-4c5844bbaeae"
      },
      "outputs": [
        {
          "name": "stdout",
          "output_type": "stream",
          "text": [
            "[[0 0 0]\n",
            " [6 7 8]\n",
            " [7 2 3]]\n"
          ]
        }
      ],
      "source": [
        "#Cambiar toda la primera fila de la matríz por [0,0,0]\n",
        "matriz[0,:]=[0,0,0]\n",
        "\n",
        "print(matriz)"
      ]
    },
    {
      "cell_type": "code",
      "execution_count": null,
      "metadata": {
        "colab": {
          "base_uri": "https://localhost:8080/"
        },
        "id": "kTF8r8JpRtTj",
        "outputId": "225e0290-b97f-4e20-ec20-83a874fc965a"
      },
      "outputs": [
        {
          "name": "stdout",
          "output_type": "stream",
          "text": [
            "[[1. 0. 0. 0. 0.]\n",
            " [0. 1. 0. 0. 0.]\n",
            " [0. 0. 1. 0. 0.]\n",
            " [0. 0. 0. 1. 0.]\n",
            " [0. 0. 0. 0. 1.]]\n"
          ]
        }
      ],
      "source": [
        "#Crear una atriz identidad  4x4\n",
        "matriz_identidad=np.identity(5)\n",
        "\n",
        "print(matriz_identidad)"
      ]
    },
    {
      "cell_type": "code",
      "execution_count": null,
      "metadata": {
        "colab": {
          "base_uri": "https://localhost:8080/"
        },
        "id": "JNvgmj07Rtll",
        "outputId": "bbfbe080-5615-4129-d827-2687b40059cc"
      },
      "outputs": [
        {
          "name": "stdout",
          "output_type": "stream",
          "text": [
            "[[0. 0. 0.]\n",
            " [0. 0. 0.]\n",
            " [0. 0. 0.]\n",
            " [0. 0. 0.]\n",
            " [0. 0. 0.]\n",
            " [0. 0. 0.]]\n"
          ]
        }
      ],
      "source": [
        "#Crear una matriz llena de ceros\n",
        "matriz_nula=np.zeros((6,3))\n",
        "\n",
        "print(matriz_nula)"
      ]
    },
    {
      "cell_type": "code",
      "execution_count": null,
      "metadata": {
        "colab": {
          "base_uri": "https://localhost:8080/"
        },
        "id": "_RdPCfrHRtn2",
        "outputId": "54b69563-8198-4cc2-c7f2-cc8e1494766b"
      },
      "outputs": [
        {
          "name": "stdout",
          "output_type": "stream",
          "text": [
            "[[100 100 100 100 100 100 100 100]\n",
            " [100 100 100 100 100 100 100 100]\n",
            " [100 100 100 100 100 100 100 100]]\n"
          ]
        }
      ],
      "source": [
        "#Crear una matriz llena de otro número arbitrario\n",
        "matriz_arbitraria=np.full((3,8),100)\n",
        "\n",
        "print(matriz_arbitraria)"
      ]
    },
    {
      "cell_type": "code",
      "execution_count": null,
      "metadata": {
        "colab": {
          "base_uri": "https://localhost:8080/"
        },
        "id": "4dO6fjzaRtqU",
        "outputId": "b8242929-d57a-402f-f3d5-cf1f76b91665"
      },
      "outputs": [
        {
          "name": "stdout",
          "output_type": "stream",
          "text": [
            "[[5 6 9 9 5 9 5 8 6 6 5 6 5 5 6]\n",
            " [5 9 5 6 6 5 8 6 9 7 7 7 7 8 9]\n",
            " [5 6 9 8 8 6 7 7 7 9 8 6 5 6 7]\n",
            " [6 5 8 9 9 9 8 8 9 8 7 9 5 9 9]\n",
            " [6 9 5 9 8 9 8 9 8 6 5 5 9 6 5]\n",
            " [5 7 8 8 5 7 8 5 6 7 9 9 8 9 7]\n",
            " [8 8 6 5 6 7 8 7 9 9 9 6 9 5 9]\n",
            " [9 6 5 5 5 7 9 5 9 5 6 6 7 6 5]\n",
            " [8 5 6 7 5 5 7 6 5 6 7 6 6 9 7]\n",
            " [6 6 5 9 8 9 5 9 9 5 6 8 5 5 9]\n",
            " [6 7 7 7 8 6 7 8 7 5 5 9 8 5 6]\n",
            " [9 8 8 9 9 5 5 5 6 5 7 6 7 5 8]\n",
            " [7 5 6 9 7 5 8 8 7 5 9 8 9 6 8]\n",
            " [9 9 8 5 8 5 9 8 8 5 8 9 6 7 9]\n",
            " [9 6 7 6 8 5 7 5 6 6 8 8 9 6 7]]\n"
          ]
        }
      ],
      "source": [
        "#Matriz llena de números aleatorios (enteros)\n",
        "matriz_numeros_aleatorios=np.random.randint(5,10,(15,15))\n",
        "\n",
        "print(matriz_numeros_aleatorios)"
      ]
    },
    {
      "cell_type": "code",
      "execution_count": null,
      "metadata": {
        "colab": {
          "base_uri": "https://localhost:8080/"
        },
        "id": "JcNEYMitTh2k",
        "outputId": "92b470b0-6873-468e-8f3d-549a4c2bfee7"
      },
      "outputs": [
        {
          "name": "stdout",
          "output_type": "stream",
          "text": [
            "[[0.3686418  0.7788886 ]\n",
            " [0.27521423 0.34996249]\n",
            " [0.15858304 0.40441742]\n",
            " [0.5089535  0.61766665]\n",
            " [0.31145082 0.51652232]]\n"
          ]
        }
      ],
      "source": [
        "#Matriz llena de números aleatorios (de 0 a 1)\n",
        "matriz_numeros_aleatorios=np.random.rand(5,2)\n",
        "\n",
        "print(matriz_numeros_aleatorios)"
      ]
    },
    {
      "cell_type": "code",
      "execution_count": null,
      "metadata": {
        "colab": {
          "base_uri": "https://localhost:8080/"
        },
        "id": "tVEKLmOrTvBV",
        "outputId": "2a47a66c-889b-454b-8caf-656a04921629"
      },
      "outputs": [
        {
          "name": "stdout",
          "output_type": "stream",
          "text": [
            "[[ 1 90]\n",
            " [ 5 67]]\n",
            "[[3 4]\n",
            " [5 6]]\n",
            "[[  3 360]\n",
            " [ 25 402]]\n",
            "[[453 544]\n",
            " [350 422]]\n",
            "-382.9999999999999\n",
            "[[-0.17493473  0.23498695]\n",
            " [ 0.01305483 -0.00261097]]\n"
          ]
        }
      ],
      "source": [
        "#Multiplicación de matrices\n",
        "\n",
        "matriz_1=np.array([[1,90],[5,67]])\n",
        "matriz_2=np.array([[3,4],[5,6]])\n",
        "\n",
        "multiplicacion= matriz_1*matriz_2\n",
        "\n",
        "print(matriz_1)\n",
        "print(matriz_2)\n",
        "print(multiplicacion)\n",
        "\n",
        "#Operaciones de algebra lineal con las matrices\n",
        "print(np.matmul(matriz_1,matriz_2))\n",
        "print(np.linalg.det(matriz_1))\n",
        "print(np.linalg.inv(matriz_1))\n"
      ]
    },
    {
      "cell_type": "code",
      "execution_count": null,
      "metadata": {
        "colab": {
          "base_uri": "https://localhost:8080/"
        },
        "id": "Wy5-ems2VsRt",
        "outputId": "3446e91c-65c4-40d3-f251-49486c76bc2e"
      },
      "outputs": [
        {
          "name": "stdout",
          "output_type": "stream",
          "text": [
            "[184 182 165 192 184 193 179 167 176 187 173 176 189 185 151 183 150 176\n",
            " 161 189]\n",
            "177.1\n",
            "180.5\n",
            "12.28779882647824\n",
            "150\n",
            "193\n",
            "185.5\n"
          ]
        }
      ],
      "source": [
        "#Operaciones estadísticas\n",
        "\n",
        "datos_altura=np.random.randint(150,195,(20))\n",
        "\n",
        "print(datos_altura)\n",
        "\n",
        "#Media\n",
        "media=np.mean(datos_altura)\n",
        "\n",
        "#Mediana\n",
        "mediana=np.median(datos_altura)\n",
        "\n",
        "#Desviación estándar\n",
        "devest=np.std(datos_altura)\n",
        "\n",
        "#Valor mínimo\n",
        "minimo=np.min(datos_altura)\n",
        "\n",
        "#Valor máximo\n",
        "maximo=np.max(datos_altura)\n",
        "\n",
        "#Percentil 75\n",
        "percentil_75=np.percentile(datos_altura,75)\n",
        "\n",
        "print(media)\n",
        "print(mediana)\n",
        "print(devest)\n",
        "print(minimo)\n",
        "print(maximo)\n",
        "print(percentil_75)"
      ]
    },
    {
      "cell_type": "code",
      "execution_count": null,
      "metadata": {
        "colab": {
          "base_uri": "https://localhost:8080/"
        },
        "id": "JrYxiAORW3Ww",
        "outputId": "f4e47a0f-cb8b-4f17-b561-7bb9531171ab"
      },
      "outputs": [
        {
          "name": "stdout",
          "output_type": "stream",
          "text": [
            "-0.8511121803854064\n",
            "-0.20179685129210245\n"
          ]
        }
      ],
      "source": [
        "from scipy.stats import kurtosis, skew\n",
        "\n",
        "print(skew(datos_altura))\n",
        "print(kurtosis(datos_altura))"
      ]
    },
    {
      "cell_type": "code",
      "execution_count": null,
      "metadata": {
        "colab": {
          "base_uri": "https://localhost:8080/"
        },
        "id": "xnMIzxSeX5Oe",
        "outputId": "5c80f9fa-5632-4b2d-c5cb-618bc1e78746"
      },
      "outputs": [
        {
          "name": "stdout",
          "output_type": "stream",
          "text": [
            "[150]\n"
          ]
        }
      ],
      "source": [
        "\n",
        "#Quiero traer las personas con altura mayor a 170\n",
        "\n",
        "print(datos_altura[datos_altura>170])"
      ]
    },
    {
      "cell_type": "code",
      "execution_count": null,
      "metadata": {
        "id": "KIwf4VUOY-Uq"
      },
      "outputs": [],
      "source": [
        "#Array de nacionalidades\n",
        "nacionalidades=np.array([\"Colombiano\",\"Colombiano\",\"Colombiano\",\"Colombiano\",\"Argentino\", \"Peruano\", \"Colombiano\",\"Colombiano\",\"Mexicano\", \"Mexicano\"])"
      ]
    },
    {
      "cell_type": "code",
      "execution_count": null,
      "metadata": {
        "colab": {
          "base_uri": "https://localhost:8080/"
        },
        "id": "5jxmN6SFZSD7",
        "outputId": "dd03182e-5c32-43fe-803a-44771edc4eee"
      },
      "outputs": [
        {
          "name": "stdout",
          "output_type": "stream",
          "text": [
            "['Colombiano' 'Colombiano' 'Colombiano' 'Colombiano' 'Colombiano'\n",
            " 'Colombiano']\n"
          ]
        }
      ],
      "source": [
        "print(nacionalidades[nacionalidades==\"Colombiano\"])"
      ]
    }
  ],
  "metadata": {
    "colab": {
      "provenance": []
    },
    "kernelspec": {
      "display_name": "Python 3",
      "name": "python3"
    },
    "language_info": {
      "name": "python"
    }
  },
  "nbformat": 4,
  "nbformat_minor": 0
}
